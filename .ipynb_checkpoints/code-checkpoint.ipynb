{
 "cells": [
  {
   "cell_type": "code",
   "execution_count": 1,
   "metadata": {},
   "outputs": [
    {
     "ename": "SyntaxError",
     "evalue": "unterminated string literal (detected at line 12) (1927512399.py, line 12)",
     "output_type": "error",
     "traceback": [
      "\u001b[0;36m  Cell \u001b[0;32mIn[1], line 12\u001b[0;36m\u001b[0m\n\u001b[0;31m    afdruk = open(\"temp\".xml\",\"w\")\u001b[0m\n\u001b[0m                                ^\u001b[0m\n\u001b[0;31mSyntaxError\u001b[0m\u001b[0;31m:\u001b[0m unterminated string literal (detected at line 12)\n"
     ]
    }
   ],
   "source": [
    "import fault_tree_generator as ftg\n",
    "import translate\n",
    "import time\n",
    "factors = ftg.Factors()\n",
    "factors.set_min_max_prob(0,1)\n",
    "factors.set_common_event_factors(0.01,0.15,2,2)\n",
    "factors.set_num_factors(2.5,100,0,0)\n",
    "factors.set_gate_weights([1,1])\n",
    "factors.calculate()\n",
    "for i in range(128,256):\n",
    "    FT = ftg.generate_fault_tree('test','root',factors)\n",
    "    afdruk = open(\"temp.xml\",\"w\")\n",
    "    FT.to_xml(afdruk)\n",
    "    afdruk.close()\n",
    "    FT = translate.parse_xml_sft(\"almost_trees/at_\"+str(i)+\".xml\",1)\n",
    "    afdruk = open(\"almost_trees_dft/at_\"+str(i)+\".dft\",\"w\")\n",
    "    afdruk.write(translate.print_dft_galileo(FT))\n",
    "    afdruk.close()\n",
    "    print(i)\n"
   ]
  },
  {
   "cell_type": "code",
   "execution_count": 7,
   "metadata": {},
   "outputs": [],
   "source": [
    "import translate\n",
    "for i in range(128):\n",
    "    FT = translate.parse_xml_sft(\"almost_trees/at_\"+str(i)+\".xml\",1)\n",
    "    afdruk = open(\"almost_trees_dft/at_\"+str(i)+\".dft\",\"w\")\n",
    "    afdruk.write(translate.print_dft_galileo(FT))\n",
    "    afdruk.close()"
   ]
  },
  {
   "cell_type": "code",
   "execution_count": null,
   "metadata": {},
   "outputs": [],
   "source": [
    "afdruk = open(\"test.xml\",\"w\")\n",
    "afdruk.write('aaa!')\n",
    "afdruk.close()\n",
    "afdruk = open(\"test.xml\",\"r\")\n",
    "print(afdruk.read())\n",
    "afdruk.close()"
   ]
  },
  {
   "cell_type": "code",
   "execution_count": null,
   "metadata": {},
   "outputs": [],
   "source": []
  }
 ],
 "metadata": {
  "kernelspec": {
   "display_name": "Python 3 (ipykernel)",
   "language": "python",
   "name": "python3"
  },
  "language_info": {
   "codemirror_mode": {
    "name": "ipython",
    "version": 3
   },
   "file_extension": ".py",
   "mimetype": "text/x-python",
   "name": "python",
   "nbconvert_exporter": "python",
   "pygments_lexer": "ipython3",
   "version": "3.10.12"
  }
 },
 "nbformat": 4,
 "nbformat_minor": 4
}
